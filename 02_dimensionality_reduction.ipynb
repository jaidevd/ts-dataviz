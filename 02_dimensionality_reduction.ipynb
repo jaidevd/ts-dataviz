{
 "cells": [
  {
   "cell_type": "code",
   "execution_count": null,
   "metadata": {},
   "outputs": [],
   "source": [
    "import numpy as np\n",
    "import matplotlib.pyplot as plt\n",
    "plt.style.use('ggplot')\n",
    "%matplotlib inline"
   ]
  },
  {
   "cell_type": "markdown",
   "metadata": {},
   "source": [
    "# Question: What is the rank of the following matrix?\n",
    "# $$Z = \\begin{bmatrix}1&2&3\\\\4&5&6\\\\7&8&9\\end{bmatrix}$$"
   ]
  },
  {
   "cell_type": "code",
   "execution_count": null,
   "metadata": {},
   "outputs": [],
   "source": [
    "np.linalg.matrix_rank?"
   ]
  },
  {
   "cell_type": "markdown",
   "metadata": {},
   "source": [
    "## Question: Consider a matrix $\\mathbf{Y}$ which is the first two columns of $\\mathbf{Z}$,\n",
    "## Is there a vector $\\mathbf{x}$ such that\n",
    "## $$\\begin{bmatrix}1&2\\\\4&5\\\\7&8\\end{bmatrix}\\begin{bmatrix}x_{1}\\\\x_{2}\\end{bmatrix} = \\begin{bmatrix}3\\\\6\\\\9\\end{bmatrix}$$\n",
    "## ?\n",
    "## Or"
   ]
  },
  {
   "cell_type": "code",
   "execution_count": null,
   "metadata": {},
   "outputs": [],
   "source": [
    "Z = np.arange(1, 10).reshape(3, 3)\n",
    "Y = Z[:, :2]\n",
    "W = Z[:, -1]\n",
    "print(Z)\n",
    "print(Y)\n",
    "print(W)"
   ]
  },
  {
   "cell_type": "code",
   "execution_count": null,
   "metadata": {},
   "outputs": [],
   "source": [
    "np.linalg.solve(Y, W)"
   ]
  },
  {
   "cell_type": "markdown",
   "metadata": {},
   "source": [
    "## Question: What went wrong?\n",
    "---\n",
    "## Exercise: Find $\\mathbf{x}$ based only on the first two rows of $\\mathbf{Z}$"
   ]
  },
  {
   "cell_type": "code",
   "execution_count": null,
   "metadata": {},
   "outputs": [],
   "source": [
    "# enter code here."
   ]
  },
  {
   "cell_type": "markdown",
   "metadata": {},
   "source": [
    "## Find the ranks of the following matrices:"
   ]
  },
  {
   "cell_type": "code",
   "execution_count": null,
   "metadata": {},
   "outputs": [],
   "source": [
    "A = np.array([\n",
    "    [1, 0, 0],\n",
    "    [0, 1, 0],\n",
    "    [0, 0, 1]\n",
    "])"
   ]
  },
  {
   "cell_type": "code",
   "execution_count": null,
   "metadata": {},
   "outputs": [],
   "source": [
    "# enter code here"
   ]
  },
  {
   "cell_type": "code",
   "execution_count": null,
   "metadata": {},
   "outputs": [],
   "source": [
    "A = np.array([\n",
    "    [1, 0, 1],\n",
    "    [0, 1, 1],\n",
    "    [0, 0, 0]\n",
    "])"
   ]
  },
  {
   "cell_type": "code",
   "execution_count": null,
   "metadata": {},
   "outputs": [],
   "source": [
    "# enter code here\n",
    "np.linalg.matrix_rank(A)"
   ]
  },
  {
   "cell_type": "code",
   "execution_count": null,
   "metadata": {},
   "outputs": [],
   "source": [
    "A = np.array([\n",
    "    [1, 0, 1],\n",
    "    [0, 1, 1],\n",
    "    [0, 0, 0.000001]\n",
    "])"
   ]
  },
  {
   "cell_type": "code",
   "execution_count": null,
   "metadata": {},
   "outputs": [],
   "source": [
    "# enter code here"
   ]
  },
  {
   "cell_type": "markdown",
   "metadata": {},
   "source": [
    "## Problem: Matrix Rank is exact, not approximate.\n",
    "----\n",
    "# Low Rank Approximations\n",
    "## Consider the following dataset:"
   ]
  },
  {
   "cell_type": "code",
   "execution_count": null,
   "metadata": {},
   "outputs": [],
   "source": [
    "x, y = np.random.rand(200, 2).T\n",
    "plt.scatter(x, y)"
   ]
  },
  {
   "cell_type": "code",
   "execution_count": null,
   "metadata": {},
   "outputs": [],
   "source": [
    "np.linalg.matrix_rank(X)"
   ]
  },
  {
   "cell_type": "markdown",
   "metadata": {},
   "source": [
    "### Draw an ellipse with center at the origin, and major and minor axes as 1 and 0.5 respectively."
   ]
  },
  {
   "cell_type": "code",
   "execution_count": null,
   "metadata": {},
   "outputs": [],
   "source": [
    "from matplotlib.patches import Ellipse\n",
    "from sklearn.preprocessing import MinMaxScaler"
   ]
  },
  {
   "cell_type": "code",
   "execution_count": null,
   "metadata": {},
   "outputs": [],
   "source": [
    "A, B = 1, 0.5\n",
    "el = Ellipse((0, 0), 2 * A, 2 * B, fill=False, linewidth=2, edgecolor='k')\n",
    "\n",
    "x = MinMaxScaler((-A, A)).fit_transform(x.reshape(-1, 1)).ravel()\n",
    "y = MinMaxScaler((-B, B)).fit_transform(y.reshape(-1, 1)).ravel()\n",
    "\n",
    "fig, ax = plt.subplots(figsize=(8, 6))\n",
    "ax.scatter(x , y)\n",
    "\n",
    "ax.add_patch(el)"
   ]
  },
  {
   "cell_type": "markdown",
   "metadata": {},
   "source": [
    "### Filter the points inside the ellipse"
   ]
  },
  {
   "cell_type": "code",
   "execution_count": null,
   "metadata": {},
   "outputs": [],
   "source": [
    "pts_out = (x ** 2) / (A ** 2) + (y ** 2) / (B ** 2) < 1\n",
    "x_in = x[pts_out]\n",
    "y_in = y[pts_out]\n",
    "\n",
    "el = Ellipse((0, 0), 2 * A, 2 * B, fill=False, linewidth=2, edgecolor='k')\n",
    "fig, ax = plt.subplots(figsize=(8, 6))\n",
    "ax.scatter(x, y, alpha=0.5)\n",
    "ax.scatter(x_in, y_in, alpha=0.5)\n",
    "ax.add_patch(el)"
   ]
  },
  {
   "cell_type": "code",
   "execution_count": null,
   "metadata": {},
   "outputs": [],
   "source": [
    "XNEW = np.c_[x_in, y_in]"
   ]
  },
  {
   "cell_type": "markdown",
   "metadata": {},
   "source": [
    "## Covariance Matrix of $\\mathbf{X_{new}}$"
   ]
  },
  {
   "cell_type": "code",
   "execution_count": null,
   "metadata": {},
   "outputs": [],
   "source": [
    "C = np.cov(XNEW.T)\n",
    "print(C)"
   ]
  },
  {
   "cell_type": "code",
   "execution_count": null,
   "metadata": {},
   "outputs": [],
   "source": [
    "xdiag = np.dot(XNEW, C)\n",
    "plt.figure(figsize=(8, 6))\n",
    "plt.scatter(*XNEW.T, alpha=0.5, c='r')\n",
    "plt.scatter(*xdiag.T, alpha=0.5, c='g')"
   ]
  },
  {
   "cell_type": "markdown",
   "metadata": {},
   "source": [
    "### What just happened?\n",
    "### Key ideas - diagonalization & change of basis\n",
    "### Introducing Eigenvalues and Eigenvectors"
   ]
  },
  {
   "cell_type": "code",
   "execution_count": null,
   "metadata": {},
   "outputs": [],
   "source": [
    "w, v = np.linalg.eig(C)"
   ]
  },
  {
   "cell_type": "code",
   "execution_count": null,
   "metadata": {},
   "outputs": [],
   "source": [
    "fig, ax = plt.subplots(figsize=(8, 6))\n",
    "\n",
    "ax.scatter(x, y, alpha=0.5)\n",
    "ax.scatter(x_in, y_in, alpha=0.5)\n",
    "\n",
    "el = Ellipse((0, 0), 2 * A, 2 * B, fill=False, linewidth=2, edgecolor='k')\n",
    "\n",
    "ax.add_patch(el)\n",
    "ax.axis([-1.5, 1.5, -1, 1])\n",
    "\n",
    "\n",
    "(e1dx, e1dy), (e2dx, e2dy) = (3 * w * v).T\n",
    "ax.arrow(0, 0, e1dx, e1dy, color='g', width=0.01)\n",
    "ax.arrow(0, 0, e2dx, e2dy, color='r', width=0.01)"
   ]
  },
  {
   "cell_type": "markdown",
   "metadata": {},
   "source": [
    "# Exercise: Plot the top 2 principal components of the Iris dataset (given below)"
   ]
  },
  {
   "cell_type": "code",
   "execution_count": null,
   "metadata": {},
   "outputs": [],
   "source": [
    "from sklearn.datasets import load_iris\n",
    "iris = load_iris()\n",
    "X = iris.data\n",
    "y = iris.target"
   ]
  },
  {
   "cell_type": "code",
   "execution_count": null,
   "metadata": {},
   "outputs": [],
   "source": [
    "# enter code here"
   ]
  }
 ],
 "metadata": {
  "kernelspec": {
   "display_name": "Python 3",
   "language": "python",
   "name": "python3"
  },
  "language_info": {
   "codemirror_mode": {
    "name": "ipython",
    "version": 3
   },
   "file_extension": ".py",
   "mimetype": "text/x-python",
   "name": "python",
   "nbconvert_exporter": "python",
   "pygments_lexer": "ipython3",
   "version": "3.6.8"
  }
 },
 "nbformat": 4,
 "nbformat_minor": 4
}
